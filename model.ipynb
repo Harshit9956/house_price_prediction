{
 "cells": [
  {
   "cell_type": "code",
   "execution_count": 2,
   "id": "766a43ec-5545-4a6b-a1c3-40ac687bec9e",
   "metadata": {},
   "outputs": [],
   "source": [
    "import pandas as pd\n",
    "import numpy as np\n",
    "import seaborn as sns\n",
    "import matplotlib.pyplot as plt"
   ]
  },
  {
   "cell_type": "code",
   "execution_count": 3,
   "id": "faf5840a-b3c1-45e3-852b-dcc9f1dfaeb8",
   "metadata": {},
   "outputs": [
    {
     "data": {
      "text/html": [
       "<div>\n",
       "<style scoped>\n",
       "    .dataframe tbody tr th:only-of-type {\n",
       "        vertical-align: middle;\n",
       "    }\n",
       "\n",
       "    .dataframe tbody tr th {\n",
       "        vertical-align: top;\n",
       "    }\n",
       "\n",
       "    .dataframe thead th {\n",
       "        text-align: right;\n",
       "    }\n",
       "</style>\n",
       "<table border=\"1\" class=\"dataframe\">\n",
       "  <thead>\n",
       "    <tr style=\"text-align: right;\">\n",
       "      <th></th>\n",
       "      <th>bhk</th>\n",
       "      <th>type</th>\n",
       "      <th>locality</th>\n",
       "      <th>area</th>\n",
       "      <th>price</th>\n",
       "      <th>price_unit</th>\n",
       "      <th>region</th>\n",
       "      <th>status</th>\n",
       "      <th>age</th>\n",
       "    </tr>\n",
       "  </thead>\n",
       "  <tbody>\n",
       "    <tr>\n",
       "      <th>0</th>\n",
       "      <td>3</td>\n",
       "      <td>Apartment</td>\n",
       "      <td>Lak And Hanware The Residency Tower</td>\n",
       "      <td>685</td>\n",
       "      <td>2.50</td>\n",
       "      <td>Cr</td>\n",
       "      <td>Andheri West</td>\n",
       "      <td>Ready to move</td>\n",
       "      <td>New</td>\n",
       "    </tr>\n",
       "    <tr>\n",
       "      <th>1</th>\n",
       "      <td>2</td>\n",
       "      <td>Apartment</td>\n",
       "      <td>Radheya Sai Enclave Building No 2</td>\n",
       "      <td>640</td>\n",
       "      <td>52.51</td>\n",
       "      <td>L</td>\n",
       "      <td>Naigaon East</td>\n",
       "      <td>Under Construction</td>\n",
       "      <td>New</td>\n",
       "    </tr>\n",
       "    <tr>\n",
       "      <th>2</th>\n",
       "      <td>2</td>\n",
       "      <td>Apartment</td>\n",
       "      <td>Romell Serene</td>\n",
       "      <td>610</td>\n",
       "      <td>1.73</td>\n",
       "      <td>Cr</td>\n",
       "      <td>Borivali West</td>\n",
       "      <td>Under Construction</td>\n",
       "      <td>New</td>\n",
       "    </tr>\n",
       "    <tr>\n",
       "      <th>3</th>\n",
       "      <td>2</td>\n",
       "      <td>Apartment</td>\n",
       "      <td>Soundlines Codename Urban Rainforest</td>\n",
       "      <td>876</td>\n",
       "      <td>59.98</td>\n",
       "      <td>L</td>\n",
       "      <td>Panvel</td>\n",
       "      <td>Under Construction</td>\n",
       "      <td>New</td>\n",
       "    </tr>\n",
       "    <tr>\n",
       "      <th>4</th>\n",
       "      <td>2</td>\n",
       "      <td>Apartment</td>\n",
       "      <td>Origin Oriana</td>\n",
       "      <td>659</td>\n",
       "      <td>94.11</td>\n",
       "      <td>L</td>\n",
       "      <td>Mira Road East</td>\n",
       "      <td>Under Construction</td>\n",
       "      <td>New</td>\n",
       "    </tr>\n",
       "  </tbody>\n",
       "</table>\n",
       "</div>"
      ],
      "text/plain": [
       "   bhk       type                              locality  area  price  \\\n",
       "0    3  Apartment   Lak And Hanware The Residency Tower   685   2.50   \n",
       "1    2  Apartment     Radheya Sai Enclave Building No 2   640  52.51   \n",
       "2    2  Apartment                         Romell Serene   610   1.73   \n",
       "3    2  Apartment  Soundlines Codename Urban Rainforest   876  59.98   \n",
       "4    2  Apartment                         Origin Oriana   659  94.11   \n",
       "\n",
       "  price_unit          region              status  age  \n",
       "0         Cr    Andheri West       Ready to move  New  \n",
       "1          L    Naigaon East  Under Construction  New  \n",
       "2         Cr   Borivali West  Under Construction  New  \n",
       "3          L          Panvel  Under Construction  New  \n",
       "4          L  Mira Road East  Under Construction  New  "
      ]
     },
     "execution_count": 3,
     "metadata": {},
     "output_type": "execute_result"
    }
   ],
   "source": [
    "df=pd.read_csv('C:/Users/DELL/Documents/mumbai_house_prices.csv')\n",
    "df.head()"
   ]
  },
  {
   "cell_type": "code",
   "execution_count": 4,
   "id": "fce88754-1f97-4583-827b-482bd6415160",
   "metadata": {},
   "outputs": [
    {
     "name": "stdout",
     "output_type": "stream",
     "text": [
      "<class 'pandas.core.frame.DataFrame'>\n",
      "RangeIndex: 76038 entries, 0 to 76037\n",
      "Data columns (total 9 columns):\n",
      " #   Column      Non-Null Count  Dtype  \n",
      "---  ------      --------------  -----  \n",
      " 0   bhk         76038 non-null  int64  \n",
      " 1   type        76038 non-null  object \n",
      " 2   locality    76038 non-null  object \n",
      " 3   area        76038 non-null  int64  \n",
      " 4   price       76038 non-null  float64\n",
      " 5   price_unit  76038 non-null  object \n",
      " 6   region      76038 non-null  object \n",
      " 7   status      76038 non-null  object \n",
      " 8   age         76038 non-null  object \n",
      "dtypes: float64(1), int64(2), object(6)\n",
      "memory usage: 5.2+ MB\n"
     ]
    }
   ],
   "source": [
    "df.info()"
   ]
  },
  {
   "cell_type": "code",
   "execution_count": 15,
   "id": "ddf1bba7-5001-4bd9-9da8-df0b1a07ff63",
   "metadata": {},
   "outputs": [
    {
     "data": {
      "text/plain": [
       "region\n",
       "Thane West        14868\n",
       "Mira Road East     9902\n",
       "Dombivali          3041\n",
       "Kandivali East     2568\n",
       "Kharghar           2362\n",
       "                  ...  \n",
       "Khopoli              72\n",
       "Rasayani             63\n",
       "Agripada             61\n",
       "Mahim                59\n",
       "Sewri                56\n",
       "Name: count, Length: 90, dtype: int64"
      ]
     },
     "execution_count": 15,
     "metadata": {},
     "output_type": "execute_result"
    }
   ],
   "source": [
    "cnt=df['region'].value_counts()\n",
    "cnt[cnt.values>50]"
   ]
  },
  {
   "cell_type": "code",
   "execution_count": 22,
   "id": "0405672c-f777-4994-a189-4a4972a6fcba",
   "metadata": {},
   "outputs": [
    {
     "data": {
      "text/plain": [
       "76028"
      ]
     },
     "execution_count": 22,
     "metadata": {},
     "output_type": "execute_result"
    }
   ],
   "source": [
    "# df.drop_duplicates(inplace=True)\n",
    "# df.count()"
   ]
  },
  {
   "cell_type": "code",
   "execution_count": 6,
   "id": "4d48fdf6-074e-42f5-9a81-8b7503ae8444",
   "metadata": {},
   "outputs": [
    {
     "name": "stdout",
     "output_type": "stream",
     "text": [
      "bhk\n",
      "2     23609\n",
      "1     19349\n",
      "3     10109\n",
      "4      2165\n",
      "5       370\n",
      "6        92\n",
      "7        13\n",
      "8         8\n",
      "10        6\n",
      "9         5\n",
      "Name: count, dtype: int64\n",
      "-------------------------------------------------\n",
      "type\n",
      "Apartment            54782\n",
      "Studio Apartment       728\n",
      "Villa                  154\n",
      "Independent House       59\n",
      "Penthouse                3\n",
      "Name: count, dtype: int64\n",
      "-------------------------------------------------\n",
      "locality\n",
      "JP North Barcelona                254\n",
      "Lodha Codename Premier            207\n",
      "Amar Vinay Heritage               196\n",
      "Raj Akshay                        193\n",
      "JP Codename Dream Home Tower B    192\n",
      "                                 ... \n",
      "Ozone The Autograph                 1\n",
      "Kings Kings Heights I               1\n",
      "JE Madhuban                         1\n",
      "Swaraj Homes Vaibhav Building       1\n",
      "Hubtown Serene                      1\n",
      "Name: count, Length: 9782, dtype: int64\n",
      "-------------------------------------------------\n",
      "area\n",
      "650     1386\n",
      "1050    1148\n",
      "1100     843\n",
      "600      808\n",
      "750      800\n",
      "        ... \n",
      "2001       1\n",
      "2534       1\n",
      "1581       1\n",
      "2166       1\n",
      "3049       1\n",
      "Name: count, Length: 2331, dtype: int64\n",
      "-------------------------------------------------\n",
      "price\n",
      "1.10     683\n",
      "1.25     656\n",
      "1.00     650\n",
      "85.00    627\n",
      "95.00    608\n",
      "        ... \n",
      "7.81       1\n",
      "10.02      1\n",
      "8.36       1\n",
      "46.38      1\n",
      "4.38       1\n",
      "Name: count, Length: 4729, dtype: int64\n",
      "-------------------------------------------------\n",
      "price_unit\n",
      "Cr    28363\n",
      "L     27363\n",
      "Name: count, dtype: int64\n",
      "-------------------------------------------------\n",
      "region\n",
      "Mira Road East       7781\n",
      "Thane West           7312\n",
      "Dombivali            2333\n",
      "Kandivali East       1893\n",
      "Kharghar             1857\n",
      "                     ... \n",
      "Sector 7 Kharghar       1\n",
      "Greater Khanda          1\n",
      "Sector-9 Kamothe        1\n",
      "Khanda Colony           1\n",
      "L I C Colony            1\n",
      "Name: count, Length: 228, dtype: int64\n",
      "-------------------------------------------------\n",
      "status\n",
      "Ready to move         32850\n",
      "Under Construction    22876\n",
      "Name: count, dtype: int64\n",
      "-------------------------------------------------\n",
      "age\n",
      "New        27585\n",
      "Resale     19606\n",
      "Unknown     8535\n",
      "Name: count, dtype: int64\n",
      "-------------------------------------------------\n"
     ]
    }
   ],
   "source": [
    "for i in df.columns:\n",
    "    print(df[i].value_counts())\n",
    "    print('-------------------------------------------------')"
   ]
  },
  {
   "cell_type": "code",
   "execution_count": 23,
   "id": "bd5551a1-bf58-45a8-877a-1e7ab2e4ce1d",
   "metadata": {},
   "outputs": [
    {
     "data": {
      "text/plain": [
       "locality\n",
       "Hiranandani Meadows                    861\n",
       "Sheth Avalon                           516\n",
       "T Bhimjyani The Verraton               499\n",
       "ACME Ozone Phase 2                     467\n",
       "Runwal Gardens                         389\n",
       "                                      ... \n",
       "HP Anton CHSL Rishab Anton               1\n",
       "Reputed Builder Shankar Heritage         1\n",
       "Reputed Builder Aishwarya Apartment      1\n",
       "Reputed Builder Vinit Tower              1\n",
       "Hubtown Serene                           1\n",
       "Name: count, Length: 9782, dtype: int64"
      ]
     },
     "execution_count": 23,
     "metadata": {},
     "output_type": "execute_result"
    }
   ],
   "source": [
    "df['locality'].value_counts()"
   ]
  },
  {
   "cell_type": "code",
   "execution_count": 10,
   "id": "f130d131-9b28-4d0b-b40e-3b11af6f26dc",
   "metadata": {},
   "outputs": [
    {
     "data": {
      "text/plain": [
       "region\n",
       "Thane West         14868\n",
       "Mira Road East      9902\n",
       "Dombivali           3041\n",
       "Kandivali East      2568\n",
       "Kharghar            2362\n",
       "Andheri West        1842\n",
       "Kalyan West         1815\n",
       "Virar               1557\n",
       "Mulund West         1526\n",
       "Panvel              1474\n",
       "Chembur             1462\n",
       "Kandivali West      1448\n",
       "Powai               1418\n",
       "Ulwe                1416\n",
       "Kanjurmarg          1332\n",
       "Malad West          1301\n",
       "Andheri East        1084\n",
       "Borivali East       1041\n",
       "Vikhroli             979\n",
       "Ghatkopar East       905\n",
       "Taloja               882\n",
       "Borivali West        881\n",
       "Wadala               873\n",
       "Malad East           870\n",
       "Goregaon West        862\n",
       "Naigaon East         847\n",
       "Dahisar              750\n",
       "Bhayandar East       678\n",
       "Goregaon East        620\n",
       "Ambernath East       620\n",
       "Kamothe              619\n",
       "Bhiwandi             618\n",
       "Vasai                591\n",
       "Bhandup West         571\n",
       "Badlapur East        502\n",
       "Karjat               456\n",
       "Jogeshwari West      441\n",
       "Santacruz East       431\n",
       "Ghansoli             368\n",
       "Seawoods             349\n",
       "Kurla                341\n",
       "Sion                 339\n",
       "Kalyan East          336\n",
       "Lower Parel          328\n",
       "Nala Sopara          327\n",
       "Badlapur West        319\n",
       "Ambernath West       309\n",
       "Byculla              308\n",
       "Airoli               293\n",
       "Koper Khairane       286\n",
       "Bandra East          262\n",
       "Neral                254\n",
       "Bandra West          229\n",
       "Sanpada              227\n",
       "Nerul                220\n",
       "Worli                219\n",
       "Kalamboli            218\n",
       "Mulund East          218\n",
       "Shil Phata           216\n",
       "Anjurdive            198\n",
       "Name: count, dtype: int64"
      ]
     },
     "execution_count": 10,
     "metadata": {},
     "output_type": "execute_result"
    }
   ],
   "source": [
    "df['region'].value_counts().head(60)"
   ]
  },
  {
   "cell_type": "code",
   "execution_count": null,
   "id": "9d06b9f4-2424-4458-bb94-9c349bb03614",
   "metadata": {},
   "outputs": [],
   "source": [
    "df"
   ]
  }
 ],
 "metadata": {
  "kernelspec": {
   "display_name": "Python 3 (ipykernel)",
   "language": "python",
   "name": "python3"
  },
  "language_info": {
   "codemirror_mode": {
    "name": "ipython",
    "version": 3
   },
   "file_extension": ".py",
   "mimetype": "text/x-python",
   "name": "python",
   "nbconvert_exporter": "python",
   "pygments_lexer": "ipython3",
   "version": "3.11.5"
  }
 },
 "nbformat": 4,
 "nbformat_minor": 5
}
