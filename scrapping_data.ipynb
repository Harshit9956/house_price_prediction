{
 "cells": [
  {
   "cell_type": "code",
   "execution_count": 1,
   "id": "72ec1f5a-4a56-44bc-ac19-f9a0c51fe5e8",
   "metadata": {},
   "outputs": [
    {
     "data": {
      "text/plain": [
       "(750, 3)"
      ]
     },
     "execution_count": 1,
     "metadata": {},
     "output_type": "execute_result"
    }
   ],
   "source": [
    "import pandas as pd\n",
    "import requests\n",
    "from bs4 import BeautifulSoup\n",
    "final_df=pd.DataFrame()\n",
    "for n in range(1,26):\n",
    "    url = \"https://www.magicbricks.com/flats-in-mumbai-for-sale-pppfs?page={}\".format(n)\n",
    "    header={'User-Agent':'Mozilla/5.0 (Windows NT 10.0; Win64; x64) AppleWebKit/537.36 (KHTML, like Gecko) Chrome/127.0.0.0 Safari/537.36'}\n",
    "\n",
    "\n",
    "# Send a GET request to the URL\n",
    "    response = requests.get(url=url,headers=header)\n",
    "\n",
    "# Parse the HTML content\n",
    "    soup = BeautifulSoup(response.content, 'html.parser')\n",
    "    \n",
    "    price=[]\n",
    "    location=[]\n",
    "    area=[]\n",
    "    a=soup.find_all('div',class_='mb-srp__card')\n",
    "    for i in a:\n",
    "        loc=i.find('h2',class_='mb-srp__card--title').text\n",
    "        prc=i.find('div',class_=\"mb-srp__card__price--amount\").text\n",
    "        ar=i.find('div',class_='mb-srp__card__summary__list').text\n",
    "        price.append(prc)\n",
    "        location.append(loc)\n",
    "        area.append(ar)\n",
    "        df=pd.DataFrame({'price':price,'area':area,'location':location})\n",
    "    final_df=pd.concat([final_df,df],ignore_index=True)\n",
    "\n",
    "\n",
    "\n",
    "final_df.shape\n",
    "    \n",
    "    "
   ]
  },
  {
   "cell_type": "code",
   "execution_count": 2,
   "id": "bd10ea82-afcd-4613-a2b4-51a3577cf893",
   "metadata": {},
   "outputs": [
    {
     "data": {
      "text/plain": [
       "0"
      ]
     },
     "execution_count": 2,
     "metadata": {},
     "output_type": "execute_result"
    }
   ],
   "source": [
    "final_df.duplicated().sum()\n"
   ]
  },
  {
   "cell_type": "code",
   "execution_count": 3,
   "id": "422a2587-759b-4f9b-866e-1f62610fe1bc",
   "metadata": {},
   "outputs": [
    {
     "data": {
      "text/plain": [
       "(750, 3)"
      ]
     },
     "execution_count": 3,
     "metadata": {},
     "output_type": "execute_result"
    }
   ],
   "source": [
    "import pandas as pd\n",
    "import requests\n",
    "from bs4 import BeautifulSoup\n",
    "final_df1=pd.DataFrame()\n",
    "for n in range(26,51):\n",
    "    url = \"https://www.magicbricks.com/flats-in-mumbai-for-sale-pppfs?page={}\".format(n)\n",
    "    header={'User-Agent':'Mozilla/5.0 (Windows NT 10.0; Win64; x64) AppleWebKit/537.36 (KHTML, like Gecko) Chrome/127.0.0.0 Safari/537.36'}\n",
    "\n",
    "\n",
    "# Send a GET request to the URL\n",
    "    response = requests.get(url=url,headers=header)\n",
    "\n",
    "# Parse the HTML content\n",
    "    soup = BeautifulSoup(response.content, 'html.parser')\n",
    "    \n",
    "    price=[]\n",
    "    location=[]\n",
    "    area=[]\n",
    "    a=soup.find_all('div',class_='mb-srp__card')\n",
    "    for i in a:\n",
    "        loc=i.find('h2',class_='mb-srp__card--title').text\n",
    "        prc=i.find('div',class_=\"mb-srp__card__price--amount\").text\n",
    "        ar=i.find('div',class_='mb-srp__card__summary__list').text\n",
    "        \n",
    "        price.append(prc)\n",
    "        location.append(loc)\n",
    "        area.append(ar)\n",
    "        df=pd.DataFrame({'price':price,'area':area,'location':location})\n",
    "    final_df1=pd.concat([final_df1,df],ignore_index=True)\n",
    "\n",
    "\n",
    "\n",
    "final_df1.shape\n",
    "    \n",
    "    "
   ]
  },
  {
   "cell_type": "code",
   "execution_count": 4,
   "id": "44949bd8-66ae-4c09-8a64-e92c2485b322",
   "metadata": {},
   "outputs": [
    {
     "data": {
      "text/plain": [
       "3"
      ]
     },
     "execution_count": 4,
     "metadata": {},
     "output_type": "execute_result"
    }
   ],
   "source": [
    "final_df1.duplicated().sum()"
   ]
  },
  {
   "cell_type": "code",
   "execution_count": 5,
   "id": "923e8e1a-68c7-44db-b0d9-1cae7c59c63e",
   "metadata": {},
   "outputs": [],
   "source": [
    "res=pd.concat([final_df,final_df1],ignore_index=True)"
   ]
  },
  {
   "cell_type": "code",
   "execution_count": 6,
   "id": "a8fd286b-2b43-41c6-bdd8-c7cb4899f1df",
   "metadata": {},
   "outputs": [
    {
     "data": {
      "text/plain": [
       "(1500, 3)"
      ]
     },
     "execution_count": 6,
     "metadata": {},
     "output_type": "execute_result"
    }
   ],
   "source": [
    "res.shape"
   ]
  },
  {
   "cell_type": "code",
   "execution_count": 7,
   "id": "c53273e8-2273-435e-b90e-01f5d5f75356",
   "metadata": {},
   "outputs": [
    {
     "data": {
      "text/plain": [
       "3"
      ]
     },
     "execution_count": 7,
     "metadata": {},
     "output_type": "execute_result"
    }
   ],
   "source": [
    "res.duplicated().sum()"
   ]
  },
  {
   "cell_type": "code",
   "execution_count": 8,
   "id": "0b3260d3-d479-485a-bedf-78a776aaa772",
   "metadata": {},
   "outputs": [
    {
     "data": {
      "text/plain": [
       "'Carpet Area690 sqftStatusReady to MoveFloor5 out of 5TransactionResaleFurnishingUnfurnishedfacingWestoverlookingGarden/Park, Main RoadOwnershipFreeholdBathroom2Balcony3'"
      ]
     },
     "execution_count": 8,
     "metadata": {},
     "output_type": "execute_result"
    }
   ],
   "source": [
    "res['area'][9]"
   ]
  },
  {
   "cell_type": "code",
   "execution_count": 10,
   "id": "0fe5690b-5f06-492b-936d-65835570b72d",
   "metadata": {},
   "outputs": [],
   "source": [
    "import re"
   ]
  },
  {
   "cell_type": "code",
   "execution_count": 27,
   "id": "777c433f-5ec8-4303-b20f-0e9db16f92ed",
   "metadata": {},
   "outputs": [],
   "source": [
    "res['Resale']=res['area'].apply(lambda x: 'yes' if 'Resale' in x else 'no')"
   ]
  },
  {
   "cell_type": "code",
   "execution_count": 28,
   "id": "c9f50d37-b08f-41f9-a9fe-f5284b29ba7a",
   "metadata": {},
   "outputs": [],
   "source": [
    "res['Area']=res['area'].apply(lambda x:''.join(re.findall(r'Area\\d+',x)))"
   ]
  },
  {
   "cell_type": "code",
   "execution_count": 29,
   "id": "1ee2d699-c6c3-4596-8003-2d787dd9aa96",
   "metadata": {},
   "outputs": [],
   "source": [
    "res['Parking']=res['area'].apply(lambda x: 1 if 'Parking' in x else 0)"
   ]
  },
  {
   "cell_type": "code",
   "execution_count": 30,
   "id": "3286b097-886c-4bbc-b266-2ccba144821d",
   "metadata": {},
   "outputs": [],
   "source": [
    "res['Furnished']=res['area'].apply(lambda x: 1 if 'Furnished' in x else 0)"
   ]
  },
  {
   "cell_type": "code",
   "execution_count": 31,
   "id": "d73831e0-b0ec-48fd-b655-61f04d563761",
   "metadata": {},
   "outputs": [
    {
     "data": {
      "text/plain": [
       "area\n",
       "no     923\n",
       "yes    577\n",
       "Name: count, dtype: int64"
      ]
     },
     "execution_count": 31,
     "metadata": {},
     "output_type": "execute_result"
    }
   ],
   "source": [
    "res['area'].apply(lambda x: 'yes' if 'Garden' in x else 'no').value_counts()"
   ]
  },
  {
   "cell_type": "code",
   "execution_count": 33,
   "id": "2e03f433-fbc5-4c41-b9ec-480f857b4a8d",
   "metadata": {},
   "outputs": [
    {
     "data": {
      "text/html": [
       "<div>\n",
       "<style scoped>\n",
       "    .dataframe tbody tr th:only-of-type {\n",
       "        vertical-align: middle;\n",
       "    }\n",
       "\n",
       "    .dataframe tbody tr th {\n",
       "        vertical-align: top;\n",
       "    }\n",
       "\n",
       "    .dataframe thead th {\n",
       "        text-align: right;\n",
       "    }\n",
       "</style>\n",
       "<table border=\"1\" class=\"dataframe\">\n",
       "  <thead>\n",
       "    <tr style=\"text-align: right;\">\n",
       "      <th></th>\n",
       "      <th>price</th>\n",
       "      <th>area</th>\n",
       "      <th>location</th>\n",
       "      <th>Garden</th>\n",
       "      <th>Resale</th>\n",
       "      <th>Area</th>\n",
       "      <th>Parking</th>\n",
       "      <th>Furnished</th>\n",
       "    </tr>\n",
       "  </thead>\n",
       "  <tbody>\n",
       "    <tr>\n",
       "      <th>0</th>\n",
       "      <td>₹1 Cr</td>\n",
       "      <td>Carpet Area500 sqftStatusReady to MoveFloor18 ...</td>\n",
       "      <td>1 BHK Flat for Sale in Mumbai Central, Mumbai</td>\n",
       "      <td>yes</td>\n",
       "      <td>yes</td>\n",
       "      <td>Area500</td>\n",
       "      <td>0</td>\n",
       "      <td>1</td>\n",
       "    </tr>\n",
       "    <tr>\n",
       "      <th>1</th>\n",
       "      <td>₹1.20 Cr</td>\n",
       "      <td>Super Area464 sqftStatusReady to MoveFloor3 ou...</td>\n",
       "      <td>1 BHK Flat for Sale in Antop Hill, Mumbai</td>\n",
       "      <td>yes</td>\n",
       "      <td>yes</td>\n",
       "      <td>Area464</td>\n",
       "      <td>1</td>\n",
       "      <td>1</td>\n",
       "    </tr>\n",
       "    <tr>\n",
       "      <th>2</th>\n",
       "      <td>₹32 Lac</td>\n",
       "      <td>Carpet Area330 sqftStatusReady to MoveFloor1 o...</td>\n",
       "      <td>Studio Apartment for Sale in Mira Road, Mumbai</td>\n",
       "      <td>no</td>\n",
       "      <td>yes</td>\n",
       "      <td>Area330</td>\n",
       "      <td>1</td>\n",
       "      <td>1</td>\n",
       "    </tr>\n",
       "    <tr>\n",
       "      <th>3</th>\n",
       "      <td>₹1.30 Cr</td>\n",
       "      <td>Carpet Area600 sqftStatusReady to MoveFloor10 ...</td>\n",
       "      <td>2 BHK Flat for Sale in Vinay Nagar, Mumbai</td>\n",
       "      <td>no</td>\n",
       "      <td>no</td>\n",
       "      <td>Area600</td>\n",
       "      <td>0</td>\n",
       "      <td>1</td>\n",
       "    </tr>\n",
       "    <tr>\n",
       "      <th>4</th>\n",
       "      <td>₹2.50 Cr</td>\n",
       "      <td>Carpet Area975 sqftFloor7 out of 8TransactionR...</td>\n",
       "      <td>3 BHK Flat for Sale in Nahar Nagar, Mumbai</td>\n",
       "      <td>yes</td>\n",
       "      <td>yes</td>\n",
       "      <td>Area975</td>\n",
       "      <td>1</td>\n",
       "      <td>1</td>\n",
       "    </tr>\n",
       "  </tbody>\n",
       "</table>\n",
       "</div>"
      ],
      "text/plain": [
       "       price                                               area  \\\n",
       "0     ₹1 Cr   Carpet Area500 sqftStatusReady to MoveFloor18 ...   \n",
       "1  ₹1.20 Cr   Super Area464 sqftStatusReady to MoveFloor3 ou...   \n",
       "2   ₹32 Lac   Carpet Area330 sqftStatusReady to MoveFloor1 o...   \n",
       "3  ₹1.30 Cr   Carpet Area600 sqftStatusReady to MoveFloor10 ...   \n",
       "4  ₹2.50 Cr   Carpet Area975 sqftFloor7 out of 8TransactionR...   \n",
       "\n",
       "                                          location Garden Resale     Area  \\\n",
       "0    1 BHK Flat for Sale in Mumbai Central, Mumbai    yes    yes  Area500   \n",
       "1        1 BHK Flat for Sale in Antop Hill, Mumbai    yes    yes  Area464   \n",
       "2   Studio Apartment for Sale in Mira Road, Mumbai     no    yes  Area330   \n",
       "3       2 BHK Flat for Sale in Vinay Nagar, Mumbai     no     no  Area600   \n",
       "4       3 BHK Flat for Sale in Nahar Nagar, Mumbai    yes    yes  Area975   \n",
       "\n",
       "   Parking  Furnished  \n",
       "0        0          1  \n",
       "1        1          1  \n",
       "2        1          1  \n",
       "3        0          1  \n",
       "4        1          1  "
      ]
     },
     "execution_count": 33,
     "metadata": {},
     "output_type": "execute_result"
    }
   ],
   "source": [
    "res.head()"
   ]
  },
  {
   "cell_type": "code",
   "execution_count": 34,
   "id": "d45ef11d-9259-4f0e-8d68-02d3d1b9c821",
   "metadata": {},
   "outputs": [],
   "source": [
    "res.drop(columns=['area'],inplace=True)"
   ]
  },
  {
   "cell_type": "code",
   "execution_count": 35,
   "id": "0ade02c2-a3e5-4c2a-b664-1b6cf9996b50",
   "metadata": {},
   "outputs": [
    {
     "data": {
      "text/html": [
       "<div>\n",
       "<style scoped>\n",
       "    .dataframe tbody tr th:only-of-type {\n",
       "        vertical-align: middle;\n",
       "    }\n",
       "\n",
       "    .dataframe tbody tr th {\n",
       "        vertical-align: top;\n",
       "    }\n",
       "\n",
       "    .dataframe thead th {\n",
       "        text-align: right;\n",
       "    }\n",
       "</style>\n",
       "<table border=\"1\" class=\"dataframe\">\n",
       "  <thead>\n",
       "    <tr style=\"text-align: right;\">\n",
       "      <th></th>\n",
       "      <th>price</th>\n",
       "      <th>location</th>\n",
       "      <th>Garden</th>\n",
       "      <th>Resale</th>\n",
       "      <th>Area</th>\n",
       "      <th>Parking</th>\n",
       "      <th>Furnished</th>\n",
       "    </tr>\n",
       "  </thead>\n",
       "  <tbody>\n",
       "    <tr>\n",
       "      <th>0</th>\n",
       "      <td>₹1 Cr</td>\n",
       "      <td>1 BHK Flat for Sale in Mumbai Central, Mumbai</td>\n",
       "      <td>yes</td>\n",
       "      <td>yes</td>\n",
       "      <td>Area500</td>\n",
       "      <td>0</td>\n",
       "      <td>1</td>\n",
       "    </tr>\n",
       "    <tr>\n",
       "      <th>1</th>\n",
       "      <td>₹1.20 Cr</td>\n",
       "      <td>1 BHK Flat for Sale in Antop Hill, Mumbai</td>\n",
       "      <td>yes</td>\n",
       "      <td>yes</td>\n",
       "      <td>Area464</td>\n",
       "      <td>1</td>\n",
       "      <td>1</td>\n",
       "    </tr>\n",
       "    <tr>\n",
       "      <th>2</th>\n",
       "      <td>₹32 Lac</td>\n",
       "      <td>Studio Apartment for Sale in Mira Road, Mumbai</td>\n",
       "      <td>no</td>\n",
       "      <td>yes</td>\n",
       "      <td>Area330</td>\n",
       "      <td>1</td>\n",
       "      <td>1</td>\n",
       "    </tr>\n",
       "    <tr>\n",
       "      <th>3</th>\n",
       "      <td>₹1.30 Cr</td>\n",
       "      <td>2 BHK Flat for Sale in Vinay Nagar, Mumbai</td>\n",
       "      <td>no</td>\n",
       "      <td>no</td>\n",
       "      <td>Area600</td>\n",
       "      <td>0</td>\n",
       "      <td>1</td>\n",
       "    </tr>\n",
       "    <tr>\n",
       "      <th>4</th>\n",
       "      <td>₹2.50 Cr</td>\n",
       "      <td>3 BHK Flat for Sale in Nahar Nagar, Mumbai</td>\n",
       "      <td>yes</td>\n",
       "      <td>yes</td>\n",
       "      <td>Area975</td>\n",
       "      <td>1</td>\n",
       "      <td>1</td>\n",
       "    </tr>\n",
       "    <tr>\n",
       "      <th>...</th>\n",
       "      <td>...</td>\n",
       "      <td>...</td>\n",
       "      <td>...</td>\n",
       "      <td>...</td>\n",
       "      <td>...</td>\n",
       "      <td>...</td>\n",
       "      <td>...</td>\n",
       "    </tr>\n",
       "    <tr>\n",
       "      <th>1495</th>\n",
       "      <td>₹3.75 Cr</td>\n",
       "      <td>2 BHK Flat for Sale in Parel, Mumbai</td>\n",
       "      <td>yes</td>\n",
       "      <td>yes</td>\n",
       "      <td>Area1000</td>\n",
       "      <td>1</td>\n",
       "      <td>1</td>\n",
       "    </tr>\n",
       "    <tr>\n",
       "      <th>1496</th>\n",
       "      <td>₹2.05 Cr</td>\n",
       "      <td>2 BHK Flat for Sale in Chandavarkar Road, Mumbai</td>\n",
       "      <td>no</td>\n",
       "      <td>yes</td>\n",
       "      <td>Area555</td>\n",
       "      <td>0</td>\n",
       "      <td>1</td>\n",
       "    </tr>\n",
       "    <tr>\n",
       "      <th>1497</th>\n",
       "      <td>₹50 Lac</td>\n",
       "      <td>1 BHK Flat for Sale in MHB Colony Borivali Wes...</td>\n",
       "      <td>no</td>\n",
       "      <td>yes</td>\n",
       "      <td>Area279</td>\n",
       "      <td>0</td>\n",
       "      <td>1</td>\n",
       "    </tr>\n",
       "    <tr>\n",
       "      <th>1498</th>\n",
       "      <td>₹1.60 Cr</td>\n",
       "      <td>2 BHK Flat for Sale in Goregaon East, Mumbai</td>\n",
       "      <td>yes</td>\n",
       "      <td>yes</td>\n",
       "      <td>Area850</td>\n",
       "      <td>1</td>\n",
       "      <td>1</td>\n",
       "    </tr>\n",
       "    <tr>\n",
       "      <th>1499</th>\n",
       "      <td>₹1.65 Cr</td>\n",
       "      <td>2 BHK Flat for Sale in Kandivali West, Mumbai</td>\n",
       "      <td>no</td>\n",
       "      <td>no</td>\n",
       "      <td>Area734</td>\n",
       "      <td>0</td>\n",
       "      <td>1</td>\n",
       "    </tr>\n",
       "  </tbody>\n",
       "</table>\n",
       "<p>1500 rows × 7 columns</p>\n",
       "</div>"
      ],
      "text/plain": [
       "          price                                           location Garden  \\\n",
       "0        ₹1 Cr       1 BHK Flat for Sale in Mumbai Central, Mumbai    yes   \n",
       "1     ₹1.20 Cr           1 BHK Flat for Sale in Antop Hill, Mumbai    yes   \n",
       "2      ₹32 Lac      Studio Apartment for Sale in Mira Road, Mumbai     no   \n",
       "3     ₹1.30 Cr          2 BHK Flat for Sale in Vinay Nagar, Mumbai     no   \n",
       "4     ₹2.50 Cr          3 BHK Flat for Sale in Nahar Nagar, Mumbai    yes   \n",
       "...         ...                                                ...    ...   \n",
       "1495  ₹3.75 Cr                2 BHK Flat for Sale in Parel, Mumbai    yes   \n",
       "1496  ₹2.05 Cr    2 BHK Flat for Sale in Chandavarkar Road, Mumbai     no   \n",
       "1497   ₹50 Lac   1 BHK Flat for Sale in MHB Colony Borivali Wes...     no   \n",
       "1498  ₹1.60 Cr        2 BHK Flat for Sale in Goregaon East, Mumbai    yes   \n",
       "1499  ₹1.65 Cr       2 BHK Flat for Sale in Kandivali West, Mumbai     no   \n",
       "\n",
       "     Resale      Area  Parking  Furnished  \n",
       "0       yes   Area500        0          1  \n",
       "1       yes   Area464        1          1  \n",
       "2       yes   Area330        1          1  \n",
       "3        no   Area600        0          1  \n",
       "4       yes   Area975        1          1  \n",
       "...     ...       ...      ...        ...  \n",
       "1495    yes  Area1000        1          1  \n",
       "1496    yes   Area555        0          1  \n",
       "1497    yes   Area279        0          1  \n",
       "1498    yes   Area850        1          1  \n",
       "1499     no   Area734        0          1  \n",
       "\n",
       "[1500 rows x 7 columns]"
      ]
     },
     "execution_count": 35,
     "metadata": {},
     "output_type": "execute_result"
    }
   ],
   "source": [
    "res"
   ]
  },
  {
   "cell_type": "code",
   "execution_count": 36,
   "id": "09bfd3f3-28a4-4221-accb-eafafecb0fc2",
   "metadata": {},
   "outputs": [],
   "source": [
    "res.to_csv('housing_data.csv')"
   ]
  }
 ],
 "metadata": {
  "kernelspec": {
   "display_name": "Python 3 (ipykernel)",
   "language": "python",
   "name": "python3"
  },
  "language_info": {
   "codemirror_mode": {
    "name": "ipython",
    "version": 3
   },
   "file_extension": ".py",
   "mimetype": "text/x-python",
   "name": "python",
   "nbconvert_exporter": "python",
   "pygments_lexer": "ipython3",
   "version": "3.11.5"
  }
 },
 "nbformat": 4,
 "nbformat_minor": 5
}
