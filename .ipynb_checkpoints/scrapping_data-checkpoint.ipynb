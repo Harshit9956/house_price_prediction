{
 "cells": [
  {
   "cell_type": "code",
   "execution_count": 73,
   "id": "72ec1f5a-4a56-44bc-ac19-f9a0c51fe5e8",
   "metadata": {},
   "outputs": [
    {
     "data": {
      "text/plain": [
       "(750, 3)"
      ]
     },
     "execution_count": 73,
     "metadata": {},
     "output_type": "execute_result"
    }
   ],
   "source": [
    "import pandas as pd\n",
    "import requests\n",
    "from bs4 import BeautifulSoup\n",
    "final_df=pd.DataFrame()\n",
    "for n in range(1,26):\n",
    "    url = \"https://www.magicbricks.com/flats-in-mumbai-for-sale-pppfs?page={}\".format(n)\n",
    "    header={'User-Agent':'Mozilla/5.0 (Windows NT 10.0; Win64; x64) AppleWebKit/537.36 (KHTML, like Gecko) Chrome/127.0.0.0 Safari/537.36'}\n",
    "\n",
    "\n",
    "# Send a GET request to the URL\n",
    "    response = requests.get(url=url,headers=header)\n",
    "\n",
    "# Parse the HTML content\n",
    "    soup = BeautifulSoup(response.content, 'html.parser')\n",
    "    \n",
    "    price=[]\n",
    "    location=[]\n",
    "    area=[]\n",
    "    a=soup.find_all('div',class_='mb-srp__card')\n",
    "    for i in a:\n",
    "        loc=i.find('h2',class_='mb-srp__card--title').text\n",
    "        prc=i.find('div',class_=\"mb-srp__card__price--amount\").text\n",
    "        ar=i.find('div',class_='mb-srp__card__summary__list').text\n",
    "        price.append(prc)\n",
    "        location.append(loc)\n",
    "        area.append(ar)\n",
    "        df=pd.DataFrame({'price':price,'area':area,'location':location})\n",
    "    final_df=pd.concat([final_df,df],ignore_index=True)\n",
    "\n",
    "\n",
    "\n",
    "final_df.shape\n",
    "    \n",
    "    "
   ]
  },
  {
   "cell_type": "code",
   "execution_count": 74,
   "id": "bd10ea82-afcd-4613-a2b4-51a3577cf893",
   "metadata": {},
   "outputs": [
    {
     "data": {
      "text/plain": [
       "0"
      ]
     },
     "execution_count": 74,
     "metadata": {},
     "output_type": "execute_result"
    }
   ],
   "source": [
    "final_df.duplicated().sum()\n"
   ]
  },
  {
   "cell_type": "code",
   "execution_count": 75,
   "id": "422a2587-759b-4f9b-866e-1f62610fe1bc",
   "metadata": {},
   "outputs": [
    {
     "data": {
      "text/plain": [
       "(750, 3)"
      ]
     },
     "execution_count": 75,
     "metadata": {},
     "output_type": "execute_result"
    }
   ],
   "source": [
    "import pandas as pd\n",
    "import requests\n",
    "from bs4 import BeautifulSoup\n",
    "final_df1=pd.DataFrame()\n",
    "for n in range(26,51):\n",
    "    url = \"https://www.magicbricks.com/flats-in-mumbai-for-sale-pppfs?page={}\".format(n)\n",
    "    header={'User-Agent':'Mozilla/5.0 (Windows NT 10.0; Win64; x64) AppleWebKit/537.36 (KHTML, like Gecko) Chrome/127.0.0.0 Safari/537.36'}\n",
    "\n",
    "\n",
    "# Send a GET request to the URL\n",
    "    response = requests.get(url=url,headers=header)\n",
    "\n",
    "# Parse the HTML content\n",
    "    soup = BeautifulSoup(response.content, 'html.parser')\n",
    "    \n",
    "    price=[]\n",
    "    location=[]\n",
    "    area=[]\n",
    "    a=soup.find_all('div',class_='mb-srp__card')\n",
    "    for i in a:\n",
    "        loc=i.find('h2',class_='mb-srp__card--title').text\n",
    "        prc=i.find('div',class_=\"mb-srp__card__price--amount\").text\n",
    "        ar=i.find('div',class_='mb-srp__card__summary__list').text\n",
    "        \n",
    "        price.append(prc)\n",
    "        location.append(loc)\n",
    "        area.append(ar)\n",
    "        df=pd.DataFrame({'price':price,'area':area,'location':location})\n",
    "    final_df1=pd.concat([final_df1,df],ignore_index=True)\n",
    "\n",
    "\n",
    "\n",
    "final_df1.shape\n",
    "    \n",
    "    "
   ]
  },
  {
   "cell_type": "code",
   "execution_count": 76,
   "id": "44949bd8-66ae-4c09-8a64-e92c2485b322",
   "metadata": {},
   "outputs": [
    {
     "data": {
      "text/plain": [
       "3"
      ]
     },
     "execution_count": 76,
     "metadata": {},
     "output_type": "execute_result"
    }
   ],
   "source": [
    "final_df1.duplicated().sum()"
   ]
  },
  {
   "cell_type": "code",
   "execution_count": 77,
   "id": "923e8e1a-68c7-44db-b0d9-1cae7c59c63e",
   "metadata": {},
   "outputs": [],
   "source": [
    "res=pd.concat([final_df,final_df1],ignore_index=True)"
   ]
  },
  {
   "cell_type": "code",
   "execution_count": 78,
   "id": "a8fd286b-2b43-41c6-bdd8-c7cb4899f1df",
   "metadata": {},
   "outputs": [
    {
     "data": {
      "text/plain": [
       "(1500, 3)"
      ]
     },
     "execution_count": 78,
     "metadata": {},
     "output_type": "execute_result"
    }
   ],
   "source": [
    "res.shape"
   ]
  },
  {
   "cell_type": "code",
   "execution_count": 79,
   "id": "c53273e8-2273-435e-b90e-01f5d5f75356",
   "metadata": {},
   "outputs": [
    {
     "data": {
      "text/plain": [
       "3"
      ]
     },
     "execution_count": 79,
     "metadata": {},
     "output_type": "execute_result"
    }
   ],
   "source": [
    "res.duplicated().sum()"
   ]
  },
  {
   "cell_type": "code",
   "execution_count": 72,
   "id": "0b3260d3-d479-485a-bedf-78a776aaa772",
   "metadata": {},
   "outputs": [
    {
     "data": {
      "text/plain": [
       "'Carpet Area1011 sqftStatusReady to MoveFloor4 out of 17TransactionResaleFurnishingSemi-FurnishedfacingEastoverlookingGarden/Park, Main RoadOwnershipFreeholdCar Parking1 OpenBathroom3'"
      ]
     },
     "execution_count": 72,
     "metadata": {},
     "output_type": "execute_result"
    }
   ],
   "source": [
    "res['area'][9]"
   ]
  },
  {
   "cell_type": "code",
   "execution_count": 88,
   "id": "777c433f-5ec8-4303-b20f-0e9db16f92ed",
   "metadata": {},
   "outputs": [],
   "source": [
    "res['Resale']=res['area'].apply(lambda x: 'yes' if 'Resale' in x else 'no')"
   ]
  },
  {
   "cell_type": "code",
   "execution_count": 89,
   "id": "c9f50d37-b08f-41f9-a9fe-f5284b29ba7a",
   "metadata": {},
   "outputs": [],
   "source": [
    "res['Area']=res['area'].apply(lambda x:''.join(re.findall(r'Area\\d+',x)))"
   ]
  },
  {
   "cell_type": "code",
   "execution_count": 90,
   "id": "1ee2d699-c6c3-4596-8003-2d787dd9aa96",
   "metadata": {},
   "outputs": [],
   "source": [
    "res['Parking']=res['area'].apply(lambda x: 1 if 'Parking' in x else 0)"
   ]
  },
  {
   "cell_type": "code",
   "execution_count": 91,
   "id": "3286b097-886c-4bbc-b266-2ccba144821d",
   "metadata": {},
   "outputs": [],
   "source": [
    "res['Furnished']=res['area'].apply(lambda x: 1 if 'Furnished' in x else 0)"
   ]
  },
  {
   "cell_type": "code",
   "execution_count": 92,
   "id": "d73831e0-b0ec-48fd-b655-61f04d563761",
   "metadata": {},
   "outputs": [
    {
     "data": {
      "text/plain": [
       "'Carpet Area800 sqftStatusReady to MoveFloor11 out of 22TransactionResaleFurnishingFurnishedfacingEastoverlookingGarden/Park, Main RoadSocietyRushabh TowerOwnershipFreeholdCar Parking1 Covered,Bathroom2'"
      ]
     },
     "execution_count": 92,
     "metadata": {},
     "output_type": "execute_result"
    }
   ],
   "source": [
    "res['area'][0]"
   ]
  },
  {
   "cell_type": "code",
   "execution_count": 97,
   "id": "d45ef11d-9259-4f0e-8d68-02d3d1b9c821",
   "metadata": {},
   "outputs": [],
   "source": [
    "# res.drop(columns=['area'],inplace=True)"
   ]
  },
  {
   "cell_type": "code",
   "execution_count": 98,
   "id": "0ade02c2-a3e5-4c2a-b664-1b6cf9996b50",
   "metadata": {},
   "outputs": [
    {
     "data": {
      "text/html": [
       "<div>\n",
       "<style scoped>\n",
       "    .dataframe tbody tr th:only-of-type {\n",
       "        vertical-align: middle;\n",
       "    }\n",
       "\n",
       "    .dataframe tbody tr th {\n",
       "        vertical-align: top;\n",
       "    }\n",
       "\n",
       "    .dataframe thead th {\n",
       "        text-align: right;\n",
       "    }\n",
       "</style>\n",
       "<table border=\"1\" class=\"dataframe\">\n",
       "  <thead>\n",
       "    <tr style=\"text-align: right;\">\n",
       "      <th></th>\n",
       "      <th>price</th>\n",
       "      <th>location</th>\n",
       "      <th>Resale</th>\n",
       "      <th>Area</th>\n",
       "      <th>Parking</th>\n",
       "      <th>Furnished</th>\n",
       "    </tr>\n",
       "  </thead>\n",
       "  <tbody>\n",
       "    <tr>\n",
       "      <th>0</th>\n",
       "      <td>₹2.90 Cr</td>\n",
       "      <td>2 BHK Flat for Sale in Sewri, Mumbai</td>\n",
       "      <td>yes</td>\n",
       "      <td>Area800</td>\n",
       "      <td>1</td>\n",
       "      <td>1</td>\n",
       "    </tr>\n",
       "    <tr>\n",
       "      <th>1</th>\n",
       "      <td>₹1 Cr</td>\n",
       "      <td>1 BHK Flat for Sale in Ghatkopar West, Mumbai</td>\n",
       "      <td>yes</td>\n",
       "      <td>Area420</td>\n",
       "      <td>1</td>\n",
       "      <td>1</td>\n",
       "    </tr>\n",
       "    <tr>\n",
       "      <th>2</th>\n",
       "      <td>₹6.66 Cr</td>\n",
       "      <td>4 BHK Flat for Sale in Borivali East, Mumbai</td>\n",
       "      <td>yes</td>\n",
       "      <td>Area1356</td>\n",
       "      <td>0</td>\n",
       "      <td>0</td>\n",
       "    </tr>\n",
       "    <tr>\n",
       "      <th>3</th>\n",
       "      <td>₹4.10 Cr</td>\n",
       "      <td>3 BHK Flat for Sale in Ghatkopar, Mumbai</td>\n",
       "      <td>yes</td>\n",
       "      <td>Area1695</td>\n",
       "      <td>1</td>\n",
       "      <td>1</td>\n",
       "    </tr>\n",
       "    <tr>\n",
       "      <th>4</th>\n",
       "      <td>₹1.35 Cr</td>\n",
       "      <td>1 BHK Flat for Sale in Kalina, Mumbai</td>\n",
       "      <td>yes</td>\n",
       "      <td>Area464</td>\n",
       "      <td>0</td>\n",
       "      <td>1</td>\n",
       "    </tr>\n",
       "    <tr>\n",
       "      <th>...</th>\n",
       "      <td>...</td>\n",
       "      <td>...</td>\n",
       "      <td>...</td>\n",
       "      <td>...</td>\n",
       "      <td>...</td>\n",
       "      <td>...</td>\n",
       "    </tr>\n",
       "    <tr>\n",
       "      <th>1495</th>\n",
       "      <td>₹3.60 Cr</td>\n",
       "      <td>2 BHK Flat for Sale in Andheri West, Mumbai</td>\n",
       "      <td>yes</td>\n",
       "      <td>Area700</td>\n",
       "      <td>0</td>\n",
       "      <td>1</td>\n",
       "    </tr>\n",
       "    <tr>\n",
       "      <th>1496</th>\n",
       "      <td>₹3 Cr</td>\n",
       "      <td>3 BHK Flat for Sale in Malad East, Mumbai</td>\n",
       "      <td>yes</td>\n",
       "      <td>Area1074</td>\n",
       "      <td>0</td>\n",
       "      <td>0</td>\n",
       "    </tr>\n",
       "    <tr>\n",
       "      <th>1497</th>\n",
       "      <td>₹95 Lac</td>\n",
       "      <td>2 BHK Flat for Sale in Mira Road Area, Mumbai</td>\n",
       "      <td>yes</td>\n",
       "      <td>Area1050</td>\n",
       "      <td>0</td>\n",
       "      <td>1</td>\n",
       "    </tr>\n",
       "    <tr>\n",
       "      <th>1498</th>\n",
       "      <td>₹25 Lac</td>\n",
       "      <td>1 BHK Flat for Sale in Virar West, Mumbai</td>\n",
       "      <td>yes</td>\n",
       "      <td>Area560</td>\n",
       "      <td>0</td>\n",
       "      <td>1</td>\n",
       "    </tr>\n",
       "    <tr>\n",
       "      <th>1499</th>\n",
       "      <td>₹1.30 Cr</td>\n",
       "      <td>2 BHK Flat for Sale in Bhandup West, Mumbai</td>\n",
       "      <td>yes</td>\n",
       "      <td>Area620</td>\n",
       "      <td>0</td>\n",
       "      <td>1</td>\n",
       "    </tr>\n",
       "  </tbody>\n",
       "</table>\n",
       "<p>1500 rows × 6 columns</p>\n",
       "</div>"
      ],
      "text/plain": [
       "          price                                       location Resale  \\\n",
       "0     ₹2.90 Cr            2 BHK Flat for Sale in Sewri, Mumbai    yes   \n",
       "1        ₹1 Cr   1 BHK Flat for Sale in Ghatkopar West, Mumbai    yes   \n",
       "2     ₹6.66 Cr    4 BHK Flat for Sale in Borivali East, Mumbai    yes   \n",
       "3     ₹4.10 Cr        3 BHK Flat for Sale in Ghatkopar, Mumbai    yes   \n",
       "4     ₹1.35 Cr           1 BHK Flat for Sale in Kalina, Mumbai    yes   \n",
       "...         ...                                            ...    ...   \n",
       "1495  ₹3.60 Cr     2 BHK Flat for Sale in Andheri West, Mumbai    yes   \n",
       "1496     ₹3 Cr       3 BHK Flat for Sale in Malad East, Mumbai    yes   \n",
       "1497   ₹95 Lac   2 BHK Flat for Sale in Mira Road Area, Mumbai    yes   \n",
       "1498   ₹25 Lac       1 BHK Flat for Sale in Virar West, Mumbai    yes   \n",
       "1499  ₹1.30 Cr     2 BHK Flat for Sale in Bhandup West, Mumbai    yes   \n",
       "\n",
       "          Area  Parking  Furnished  \n",
       "0      Area800        1          1  \n",
       "1      Area420        1          1  \n",
       "2     Area1356        0          0  \n",
       "3     Area1695        1          1  \n",
       "4      Area464        0          1  \n",
       "...        ...      ...        ...  \n",
       "1495   Area700        0          1  \n",
       "1496  Area1074        0          0  \n",
       "1497  Area1050        0          1  \n",
       "1498   Area560        0          1  \n",
       "1499   Area620        0          1  \n",
       "\n",
       "[1500 rows x 6 columns]"
      ]
     },
     "execution_count": 98,
     "metadata": {},
     "output_type": "execute_result"
    }
   ],
   "source": [
    "res"
   ]
  }
 ],
 "metadata": {
  "kernelspec": {
   "display_name": "Python 3 (ipykernel)",
   "language": "python",
   "name": "python3"
  },
  "language_info": {
   "codemirror_mode": {
    "name": "ipython",
    "version": 3
   },
   "file_extension": ".py",
   "mimetype": "text/x-python",
   "name": "python",
   "nbconvert_exporter": "python",
   "pygments_lexer": "ipython3",
   "version": "3.11.5"
  }
 },
 "nbformat": 4,
 "nbformat_minor": 5
}
